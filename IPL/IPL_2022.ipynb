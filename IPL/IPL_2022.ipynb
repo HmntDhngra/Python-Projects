{
 "cells": [
  {
   "cell_type": "code",
   "execution_count": 1,
   "metadata": {},
   "outputs": [],
   "source": [
    "import pandas as pd\n",
    "import numpy as np\n",
    "import matplotlib.pyplot as plt\n",
    "import seaborn as sns\n",
    "import warnings \n",
    "warnings.filterwarnings('ignore')"
   ]
  },
  {
   "cell_type": "markdown",
   "metadata": {},
   "source": [
    "dataset :- https://www.kaggle.com/datasets/shivavashishtha/2022-ipl-auction-dataset"
   ]
  },
  {
   "cell_type": "code",
   "execution_count": 2,
   "metadata": {},
   "outputs": [],
   "source": [
    "df=pd.read_csv(\"ipl_2022_dataset.csv\")"
   ]
  },
  {
   "cell_type": "code",
   "execution_count": 3,
   "metadata": {},
   "outputs": [
    {
     "data": {
      "text/plain": [
       "(633, 8)"
      ]
     },
     "execution_count": 3,
     "metadata": {},
     "output_type": "execute_result"
    }
   ],
   "source": [
    "df.shape"
   ]
  },
  {
   "cell_type": "code",
   "execution_count": 4,
   "metadata": {},
   "outputs": [
    {
     "data": {
      "text/html": [
       "<div>\n",
       "<style scoped>\n",
       "    .dataframe tbody tr th:only-of-type {\n",
       "        vertical-align: middle;\n",
       "    }\n",
       "\n",
       "    .dataframe tbody tr th {\n",
       "        vertical-align: top;\n",
       "    }\n",
       "\n",
       "    .dataframe thead th {\n",
       "        text-align: right;\n",
       "    }\n",
       "</style>\n",
       "<table border=\"1\" class=\"dataframe\">\n",
       "  <thead>\n",
       "    <tr style=\"text-align: right;\">\n",
       "      <th></th>\n",
       "      <th>Unnamed: 0</th>\n",
       "      <th>Player</th>\n",
       "      <th>Base Price</th>\n",
       "      <th>TYPE</th>\n",
       "      <th>COST IN ₹ (CR.)</th>\n",
       "      <th>Cost IN $ (000)</th>\n",
       "      <th>2021 Squad</th>\n",
       "      <th>Team</th>\n",
       "    </tr>\n",
       "  </thead>\n",
       "  <tbody>\n",
       "    <tr>\n",
       "      <th>0</th>\n",
       "      <td>0</td>\n",
       "      <td>Rashid Khan</td>\n",
       "      <td>Draft Pick</td>\n",
       "      <td>BOWLER</td>\n",
       "      <td>15.0</td>\n",
       "      <td>1950.0</td>\n",
       "      <td>SRH</td>\n",
       "      <td>Gujarat Titans</td>\n",
       "    </tr>\n",
       "    <tr>\n",
       "      <th>1</th>\n",
       "      <td>1</td>\n",
       "      <td>Hardik Pandya</td>\n",
       "      <td>Draft Pick</td>\n",
       "      <td>ALL-ROUNDER</td>\n",
       "      <td>15.0</td>\n",
       "      <td>1950.0</td>\n",
       "      <td>MI</td>\n",
       "      <td>Gujarat Titans</td>\n",
       "    </tr>\n",
       "    <tr>\n",
       "      <th>2</th>\n",
       "      <td>2</td>\n",
       "      <td>Lockie Ferguson</td>\n",
       "      <td>2 Cr</td>\n",
       "      <td>BOWLER</td>\n",
       "      <td>10.0</td>\n",
       "      <td>1300.0</td>\n",
       "      <td>KKR</td>\n",
       "      <td>Gujarat Titans</td>\n",
       "    </tr>\n",
       "    <tr>\n",
       "      <th>3</th>\n",
       "      <td>3</td>\n",
       "      <td>Rahul Tewatia</td>\n",
       "      <td>40 Lakh</td>\n",
       "      <td>ALL-ROUNDER</td>\n",
       "      <td>9.0</td>\n",
       "      <td>1170.0</td>\n",
       "      <td>RR</td>\n",
       "      <td>Gujarat Titans</td>\n",
       "    </tr>\n",
       "    <tr>\n",
       "      <th>4</th>\n",
       "      <td>4</td>\n",
       "      <td>Shubman Gill</td>\n",
       "      <td>Draft Pick</td>\n",
       "      <td>BATTER</td>\n",
       "      <td>8.0</td>\n",
       "      <td>1040.0</td>\n",
       "      <td>KKR</td>\n",
       "      <td>Gujarat Titans</td>\n",
       "    </tr>\n",
       "  </tbody>\n",
       "</table>\n",
       "</div>"
      ],
      "text/plain": [
       "   Unnamed: 0           Player  Base Price         TYPE  COST IN ₹ (CR.)  \\\n",
       "0           0      Rashid Khan  Draft Pick       BOWLER             15.0   \n",
       "1           1    Hardik Pandya  Draft Pick  ALL-ROUNDER             15.0   \n",
       "2           2  Lockie Ferguson        2 Cr       BOWLER             10.0   \n",
       "3           3    Rahul Tewatia     40 Lakh  ALL-ROUNDER              9.0   \n",
       "4           4     Shubman Gill  Draft Pick       BATTER              8.0   \n",
       "\n",
       "   Cost IN $ (000) 2021 Squad            Team  \n",
       "0           1950.0        SRH  Gujarat Titans  \n",
       "1           1950.0         MI  Gujarat Titans  \n",
       "2           1300.0        KKR  Gujarat Titans  \n",
       "3           1170.0         RR  Gujarat Titans  \n",
       "4           1040.0        KKR  Gujarat Titans  "
      ]
     },
     "execution_count": 4,
     "metadata": {},
     "output_type": "execute_result"
    }
   ],
   "source": [
    "df.head()"
   ]
  },
  {
   "cell_type": "code",
   "execution_count": 5,
   "metadata": {},
   "outputs": [],
   "source": [
    "#Unnamed column is not needed, so we drop it \n",
    "df=df.drop('Unnamed: 0', axis=1)"
   ]
  },
  {
   "cell_type": "code",
   "execution_count": 6,
   "metadata": {},
   "outputs": [
    {
     "data": {
      "text/html": [
       "<div>\n",
       "<style scoped>\n",
       "    .dataframe tbody tr th:only-of-type {\n",
       "        vertical-align: middle;\n",
       "    }\n",
       "\n",
       "    .dataframe tbody tr th {\n",
       "        vertical-align: top;\n",
       "    }\n",
       "\n",
       "    .dataframe thead th {\n",
       "        text-align: right;\n",
       "    }\n",
       "</style>\n",
       "<table border=\"1\" class=\"dataframe\">\n",
       "  <thead>\n",
       "    <tr style=\"text-align: right;\">\n",
       "      <th></th>\n",
       "      <th>Player</th>\n",
       "      <th>Base Price</th>\n",
       "      <th>TYPE</th>\n",
       "      <th>COST IN ₹ (CR.)</th>\n",
       "      <th>Cost IN $ (000)</th>\n",
       "      <th>2021 Squad</th>\n",
       "      <th>Team</th>\n",
       "    </tr>\n",
       "  </thead>\n",
       "  <tbody>\n",
       "    <tr>\n",
       "      <th>0</th>\n",
       "      <td>Rashid Khan</td>\n",
       "      <td>Draft Pick</td>\n",
       "      <td>BOWLER</td>\n",
       "      <td>15.0</td>\n",
       "      <td>1950.0</td>\n",
       "      <td>SRH</td>\n",
       "      <td>Gujarat Titans</td>\n",
       "    </tr>\n",
       "    <tr>\n",
       "      <th>1</th>\n",
       "      <td>Hardik Pandya</td>\n",
       "      <td>Draft Pick</td>\n",
       "      <td>ALL-ROUNDER</td>\n",
       "      <td>15.0</td>\n",
       "      <td>1950.0</td>\n",
       "      <td>MI</td>\n",
       "      <td>Gujarat Titans</td>\n",
       "    </tr>\n",
       "    <tr>\n",
       "      <th>2</th>\n",
       "      <td>Lockie Ferguson</td>\n",
       "      <td>2 Cr</td>\n",
       "      <td>BOWLER</td>\n",
       "      <td>10.0</td>\n",
       "      <td>1300.0</td>\n",
       "      <td>KKR</td>\n",
       "      <td>Gujarat Titans</td>\n",
       "    </tr>\n",
       "    <tr>\n",
       "      <th>3</th>\n",
       "      <td>Rahul Tewatia</td>\n",
       "      <td>40 Lakh</td>\n",
       "      <td>ALL-ROUNDER</td>\n",
       "      <td>9.0</td>\n",
       "      <td>1170.0</td>\n",
       "      <td>RR</td>\n",
       "      <td>Gujarat Titans</td>\n",
       "    </tr>\n",
       "    <tr>\n",
       "      <th>4</th>\n",
       "      <td>Shubman Gill</td>\n",
       "      <td>Draft Pick</td>\n",
       "      <td>BATTER</td>\n",
       "      <td>8.0</td>\n",
       "      <td>1040.0</td>\n",
       "      <td>KKR</td>\n",
       "      <td>Gujarat Titans</td>\n",
       "    </tr>\n",
       "  </tbody>\n",
       "</table>\n",
       "</div>"
      ],
      "text/plain": [
       "            Player  Base Price         TYPE  COST IN ₹ (CR.)  Cost IN $ (000)  \\\n",
       "0      Rashid Khan  Draft Pick       BOWLER             15.0           1950.0   \n",
       "1    Hardik Pandya  Draft Pick  ALL-ROUNDER             15.0           1950.0   \n",
       "2  Lockie Ferguson        2 Cr       BOWLER             10.0           1300.0   \n",
       "3    Rahul Tewatia     40 Lakh  ALL-ROUNDER              9.0           1170.0   \n",
       "4     Shubman Gill  Draft Pick       BATTER              8.0           1040.0   \n",
       "\n",
       "  2021 Squad            Team  \n",
       "0        SRH  Gujarat Titans  \n",
       "1         MI  Gujarat Titans  \n",
       "2        KKR  Gujarat Titans  \n",
       "3         RR  Gujarat Titans  \n",
       "4        KKR  Gujarat Titans  "
      ]
     },
     "execution_count": 6,
     "metadata": {},
     "output_type": "execute_result"
    }
   ],
   "source": [
    "df.head()"
   ]
  },
  {
   "cell_type": "markdown",
   "metadata": {},
   "source": [
    "### Renaming the columns"
   ]
  },
  {
   "cell_type": "code",
   "execution_count": 7,
   "metadata": {},
   "outputs": [],
   "source": [
    "df.columns=['Player', 'Base_price', 'Type', 'INR_Cost','USD_Cost', 'Prev_team', 'Team']"
   ]
  },
  {
   "cell_type": "markdown",
   "metadata": {},
   "source": [
    "### Finding & Correcting columns with null values"
   ]
  },
  {
   "cell_type": "code",
   "execution_count": 8,
   "metadata": {},
   "outputs": [
    {
     "data": {
      "text/plain": [
       "['INR_Cost', 'USD_Cost', 'Prev_team']"
      ]
     },
     "execution_count": 8,
     "metadata": {},
     "output_type": "execute_result"
    }
   ],
   "source": [
    "features=df.columns\n",
    "features_with_null=[i for i in features if df[i].isnull().sum()!=0]\n",
    "features_with_null"
   ]
  },
  {
   "cell_type": "code",
   "execution_count": 9,
   "metadata": {},
   "outputs": [],
   "source": [
    "df['INR_Cost']=df['INR_Cost'].fillna(0)\n",
    "df['USD_Cost']=df['USD_Cost'].fillna(0)\n",
    "df['Prev_team']=df['Prev_team'].fillna('DNP')"
   ]
  },
  {
   "cell_type": "code",
   "execution_count": 10,
   "metadata": {},
   "outputs": [
    {
     "data": {
      "text/plain": [
       "array(['Gujarat Titans', 'Chennai Super Kings', 'Delhi Capitals',\n",
       "       'Kolkata Knight Riders', 'Punjab Kings', 'Lucknow Super Giants',\n",
       "       'Mumbai Indians', 'Royal Challengers Bangalore',\n",
       "       'Rajasthan Royals', 'Sunrisers Hyderabad', 'Unsold'], dtype=object)"
      ]
     },
     "execution_count": 10,
     "metadata": {},
     "output_type": "execute_result"
    }
   ],
   "source": [
    "df['Team'].unique()"
   ]
  },
  {
   "cell_type": "code",
   "execution_count": 11,
   "metadata": {},
   "outputs": [],
   "source": [
    "#Making a new column to manipulate sold and unsold players\n",
    "df['Status']=np.where(df['Team']!='Unsold', 'Sold', 'Unsold')"
   ]
  },
  {
   "cell_type": "code",
   "execution_count": 12,
   "metadata": {},
   "outputs": [
    {
     "data": {
      "text/html": [
       "<div>\n",
       "<style scoped>\n",
       "    .dataframe tbody tr th:only-of-type {\n",
       "        vertical-align: middle;\n",
       "    }\n",
       "\n",
       "    .dataframe tbody tr th {\n",
       "        vertical-align: top;\n",
       "    }\n",
       "\n",
       "    .dataframe thead th {\n",
       "        text-align: right;\n",
       "    }\n",
       "</style>\n",
       "<table border=\"1\" class=\"dataframe\">\n",
       "  <thead>\n",
       "    <tr style=\"text-align: right;\">\n",
       "      <th></th>\n",
       "      <th>Player</th>\n",
       "      <th>Base_price</th>\n",
       "      <th>Type</th>\n",
       "      <th>INR_Cost</th>\n",
       "      <th>USD_Cost</th>\n",
       "      <th>Prev_team</th>\n",
       "      <th>Team</th>\n",
       "      <th>Status</th>\n",
       "    </tr>\n",
       "  </thead>\n",
       "  <tbody>\n",
       "    <tr>\n",
       "      <th>62</th>\n",
       "      <td>Lalit Yadav</td>\n",
       "      <td>20 Lakh</td>\n",
       "      <td>ALL-ROUNDER</td>\n",
       "      <td>0.65</td>\n",
       "      <td>84.5</td>\n",
       "      <td>DC</td>\n",
       "      <td>Delhi Capitals</td>\n",
       "      <td>Sold</td>\n",
       "    </tr>\n",
       "    <tr>\n",
       "      <th>240</th>\n",
       "      <td>Amit Mishra</td>\n",
       "      <td>1.5 Cr</td>\n",
       "      <td>BOWLER</td>\n",
       "      <td>0.00</td>\n",
       "      <td>0.0</td>\n",
       "      <td>DC</td>\n",
       "      <td>Unsold</td>\n",
       "      <td>Unsold</td>\n",
       "    </tr>\n",
       "    <tr>\n",
       "      <th>499</th>\n",
       "      <td>Amit Mishra</td>\n",
       "      <td>20 Lakh</td>\n",
       "      <td>BOWLER</td>\n",
       "      <td>0.00</td>\n",
       "      <td>0.0</td>\n",
       "      <td>DNP</td>\n",
       "      <td>Unsold</td>\n",
       "      <td>Unsold</td>\n",
       "    </tr>\n",
       "    <tr>\n",
       "      <th>518</th>\n",
       "      <td>Shivam Sharma</td>\n",
       "      <td>20 Lakh</td>\n",
       "      <td>ALL-ROUNDER</td>\n",
       "      <td>0.00</td>\n",
       "      <td>0.0</td>\n",
       "      <td>DNP</td>\n",
       "      <td>Unsold</td>\n",
       "      <td>Unsold</td>\n",
       "    </tr>\n",
       "    <tr>\n",
       "      <th>530</th>\n",
       "      <td>Lalit Yadav</td>\n",
       "      <td>20 Lakh</td>\n",
       "      <td>BOWLER</td>\n",
       "      <td>0.00</td>\n",
       "      <td>0.0</td>\n",
       "      <td>DNP</td>\n",
       "      <td>Unsold</td>\n",
       "      <td>Unsold</td>\n",
       "    </tr>\n",
       "    <tr>\n",
       "      <th>537</th>\n",
       "      <td>Shubham Singh</td>\n",
       "      <td>20 Lakh</td>\n",
       "      <td>ALL-ROUNDER</td>\n",
       "      <td>0.00</td>\n",
       "      <td>0.0</td>\n",
       "      <td>DNP</td>\n",
       "      <td>Unsold</td>\n",
       "      <td>Unsold</td>\n",
       "    </tr>\n",
       "    <tr>\n",
       "      <th>544</th>\n",
       "      <td>Shubham Singh</td>\n",
       "      <td>20 Lakh</td>\n",
       "      <td>BOWLER</td>\n",
       "      <td>0.00</td>\n",
       "      <td>0.0</td>\n",
       "      <td>DNP</td>\n",
       "      <td>Unsold</td>\n",
       "      <td>Unsold</td>\n",
       "    </tr>\n",
       "    <tr>\n",
       "      <th>569</th>\n",
       "      <td>Shivam Sharma</td>\n",
       "      <td>20 Lakh</td>\n",
       "      <td>ALL-ROUNDER</td>\n",
       "      <td>0.00</td>\n",
       "      <td>0.0</td>\n",
       "      <td>DNP</td>\n",
       "      <td>Unsold</td>\n",
       "      <td>Unsold</td>\n",
       "    </tr>\n",
       "  </tbody>\n",
       "</table>\n",
       "</div>"
      ],
      "text/plain": [
       "            Player Base_price         Type  INR_Cost  USD_Cost Prev_team  \\\n",
       "62     Lalit Yadav    20 Lakh  ALL-ROUNDER      0.65      84.5        DC   \n",
       "240    Amit Mishra     1.5 Cr       BOWLER      0.00       0.0        DC   \n",
       "499    Amit Mishra    20 Lakh       BOWLER      0.00       0.0       DNP   \n",
       "518  Shivam Sharma    20 Lakh  ALL-ROUNDER      0.00       0.0       DNP   \n",
       "530    Lalit Yadav    20 Lakh       BOWLER      0.00       0.0       DNP   \n",
       "537  Shubham Singh    20 Lakh  ALL-ROUNDER      0.00       0.0       DNP   \n",
       "544  Shubham Singh    20 Lakh       BOWLER      0.00       0.0       DNP   \n",
       "569  Shivam Sharma    20 Lakh  ALL-ROUNDER      0.00       0.0       DNP   \n",
       "\n",
       "               Team  Status  \n",
       "62   Delhi Capitals    Sold  \n",
       "240          Unsold  Unsold  \n",
       "499          Unsold  Unsold  \n",
       "518          Unsold  Unsold  \n",
       "530          Unsold  Unsold  \n",
       "537          Unsold  Unsold  \n",
       "544          Unsold  Unsold  \n",
       "569          Unsold  Unsold  "
      ]
     },
     "execution_count": 12,
     "metadata": {},
     "output_type": "execute_result"
    }
   ],
   "source": [
    "df[df['Player'].duplicated(keep=False)]"
   ]
  },
  {
   "cell_type": "code",
   "execution_count": 13,
   "metadata": {},
   "outputs": [
    {
     "data": {
      "text/plain": [
       "633"
      ]
     },
     "execution_count": 13,
     "metadata": {},
     "output_type": "execute_result"
    }
   ],
   "source": [
    "#Number of players that participated in the auction\n",
    "df.shape[0]"
   ]
  },
  {
   "cell_type": "code",
   "execution_count": 14,
   "metadata": {},
   "outputs": [],
   "source": [
    "mn=df.groupby('Type')['Player'].count()\n",
    "labels=mn.keys()\n",
    "vals=mn.values"
   ]
  },
  {
   "cell_type": "code",
   "execution_count": 15,
   "metadata": {},
   "outputs": [
    {
     "data": {
      "image/png": "[encoded data removed]",
      "text/plain": [
       "<Figure size 432x288 with 1 Axes>"
      ]
     },
     "metadata": {},
     "output_type": "display_data"
    }
   ],
   "source": [
    "plt.pie(x=vals, labels=labels, autopct='%1.2f%%')\n",
    "plt.title(\"Role of players\", fontsize=15)\n",
    "plt.show()"
   ]
  },
  {
   "cell_type": "code",
   "execution_count": 16,
   "metadata": {},
   "outputs": [],
   "source": [
    "vals=df.groupby('Status')['Player'].count().values\n",
    "labs=df.groupby('Status')['Player'].count().keys()"
   ]
  },
  {
   "cell_type": "code",
   "execution_count": 17,
   "metadata": {},
   "outputs": [
    {
     "data": {
      "image/png": "[encoded data removed]",
      "text/plain": [
       "<Figure size 432x288 with 1 Axes>"
      ]
     },
     "metadata": {
      "needs_background": "light"
     },
     "output_type": "display_data"
    }
   ],
   "source": [
    "fig=sns.countplot(df['Status'])\n",
    "plt.ylabel(\"Number of players\")\n",
    "plt.xlabel(\"Sold/Unsold\")\n",
    "plt.title(\"Distribution of players\")\n",
    "\n",
    "for p in fig.patches:\n",
    "    fig.annotate(format(p.get_height(), '.0f'), (p.get_x()+p.get_width()/2., p.get_height()), ha='center', va='center', \n",
    "                        xytext=(0,4), textcoords='offset points')"
   ]
  },
  {
   "cell_type": "code",
   "execution_count": 18,
   "metadata": {},
   "outputs": [
    {
     "data": {
      "text/plain": [
       "Team\n",
       "Chennai Super Kings             25\n",
       "Delhi Capitals                  24\n",
       "Gujarat Titans                  22\n",
       "Kolkata Knight Riders           25\n",
       "Lucknow Super Giants            22\n",
       "Mumbai Indians                  25\n",
       "Punjab Kings                    25\n",
       "Rajasthan Royals                24\n",
       "Royal Challengers Bangalore     22\n",
       "Sunrisers Hyderabad             23\n",
       "Unsold                         396\n",
       "Name: Player, dtype: int64"
      ]
     },
     "execution_count": 18,
     "metadata": {},
     "output_type": "execute_result"
    }
   ],
   "source": [
    "df.groupby('Team')['Player'].count()"
   ]
  },
  {
   "cell_type": "code",
   "execution_count": 19,
   "metadata": {
    "scrolled": true
   },
   "outputs": [
    {
     "data": {
      "image/png": "[encoded data removed]",
      "text/plain": [
       "<Figure size 1080x432 with 1 Axes>"
      ]
     },
     "metadata": {
      "needs_background": "light"
     },
     "output_type": "display_data"
    }
   ],
   "source": [
    "plt.figure(figsize=(15,6))\n",
    "fig=sns.countplot(df[df['Team']!='Unsold']['Team'])\n",
    "plt.xticks(rotation=45)\n",
    "for p in fig.patches:\n",
    "    fig.annotate(format(p.get_height(), '.0f'), (p.get_x()+p.get_width()/2., p.get_height()), ha='center', va='center', \n",
    "                        xytext=(0,4), textcoords='offset points')\n",
    "\n",
    "plt.show()"
   ]
  },
  {
   "cell_type": "markdown",
   "metadata": {},
   "source": [
    "### Manipulating Base_Price"
   ]
  },
  {
   "cell_type": "code",
   "execution_count": 20,
   "metadata": {},
   "outputs": [
    {
     "data": {
      "text/plain": [
       "array(['Draft Pick', '2 Cr', '40 Lakh', '20 Lakh', '1 Cr', '75 Lakh',\n",
       "       '50 Lakh', '30 Lakh', 'Retained', '1.5 Cr'], dtype=object)"
      ]
     },
     "execution_count": 20,
     "metadata": {},
     "output_type": "execute_result"
    }
   ],
   "source": [
    "df['Base_price'].unique()"
   ]
  },
  {
   "cell_type": "code",
   "execution_count": 21,
   "metadata": {},
   "outputs": [],
   "source": [
    "#Making a new column Retention to classify the player selection type\n",
    "df['Retention']=df['Base_price']"
   ]
  },
  {
   "cell_type": "code",
   "execution_count": 22,
   "metadata": {},
   "outputs": [],
   "source": [
    "df['Retention']=df['Retention'].replace(['2 Cr', '40 Lakh', '20 Lakh', '1 Cr', '75 Lakh','50 Lakh', '30 Lakh', '1.5 Cr'], 'Auction')"
   ]
  },
  {
   "cell_type": "code",
   "execution_count": 23,
   "metadata": {},
   "outputs": [
    {
     "data": {
      "text/plain": [
       "array(['Draft Pick', '2 Cr', '40 Lakh', '20 Lakh', '1 Cr', '75 Lakh',\n",
       "       '50 Lakh', '30 Lakh', 'Retained', '1.5 Cr'], dtype=object)"
      ]
     },
     "execution_count": 23,
     "metadata": {},
     "output_type": "execute_result"
    }
   ],
   "source": [
    "df['Base_price'].unique()"
   ]
  },
  {
   "cell_type": "code",
   "execution_count": 24,
   "metadata": {},
   "outputs": [],
   "source": [
    "#Replacing draft pick players to be at 0 Base Price \n",
    "df['Base_price']=np.where(df['Base_price']=='Draft Pick',0,df['Base_price'])"
   ]
  },
  {
   "cell_type": "code",
   "execution_count": 25,
   "metadata": {},
   "outputs": [
    {
     "data": {
      "text/plain": [
       "array([0, '2 Cr', '40 Lakh', '20 Lakh', '1 Cr', '75 Lakh', '50 Lakh',\n",
       "       '30 Lakh', 'Retained', '1.5 Cr'], dtype=object)"
      ]
     },
     "execution_count": 25,
     "metadata": {},
     "output_type": "execute_result"
    }
   ],
   "source": [
    "df['Base_price'].unique()"
   ]
  },
  {
   "cell_type": "code",
   "execution_count": 26,
   "metadata": {},
   "outputs": [],
   "source": [
    "#Splitting Base_price into 2 columns one having the numeral and the other having the currency\n",
    "df['Base_P']=df['Base_price'].copy()\n",
    "df['Base_Price']=df['Base_P'].apply(lambda x:str(x).split(\" \")[0])\n",
    "df['Base_Price_curr']=df['Base_P'].apply(lambda x:str(x).split(\" \")[-1])"
   ]
  },
  {
   "cell_type": "code",
   "execution_count": 27,
   "metadata": {},
   "outputs": [],
   "source": [
    "#Drop unncessary series\n",
    "df=df.drop(['Base_price', 'Base_P'], axis=1)"
   ]
  },
  {
   "cell_type": "code",
   "execution_count": 28,
   "metadata": {},
   "outputs": [],
   "source": [
    "#Replacing retained players to have 0 base price\n",
    "df['Base_Price']=df['Base_Price'].replace('Retained','0')"
   ]
  },
  {
   "cell_type": "code",
   "execution_count": 29,
   "metadata": {},
   "outputs": [
    {
     "data": {
      "text/plain": [
       "array(['Draft Pick', 'Auction', 'Retained'], dtype=object)"
      ]
     },
     "execution_count": 29,
     "metadata": {},
     "output_type": "execute_result"
    }
   ],
   "source": [
    "df['Retention'].unique()"
   ]
  },
  {
   "cell_type": "code",
   "execution_count": 30,
   "metadata": {},
   "outputs": [
    {
     "data": {
      "text/plain": [
       "array(['0', '2', '40', '20', '1', '75', '50', '30', '1.5'], dtype=object)"
      ]
     },
     "execution_count": 30,
     "metadata": {},
     "output_type": "execute_result"
    }
   ],
   "source": [
    "#Base_price now contains only numerals but the datatype is an 'Object\"'. Convert that to float\n",
    "df['Base_Price'].unique()"
   ]
  },
  {
   "cell_type": "code",
   "execution_count": 31,
   "metadata": {},
   "outputs": [
    {
     "data": {
      "text/html": [
       "<div>\n",
       "<style scoped>\n",
       "    .dataframe tbody tr th:only-of-type {\n",
       "        vertical-align: middle;\n",
       "    }\n",
       "\n",
       "    .dataframe tbody tr th {\n",
       "        vertical-align: top;\n",
       "    }\n",
       "\n",
       "    .dataframe thead th {\n",
       "        text-align: right;\n",
       "    }\n",
       "</style>\n",
       "<table border=\"1\" class=\"dataframe\">\n",
       "  <thead>\n",
       "    <tr style=\"text-align: right;\">\n",
       "      <th></th>\n",
       "      <th>Player</th>\n",
       "      <th>Type</th>\n",
       "      <th>INR_Cost</th>\n",
       "      <th>USD_Cost</th>\n",
       "      <th>Prev_team</th>\n",
       "      <th>Team</th>\n",
       "      <th>Status</th>\n",
       "      <th>Retention</th>\n",
       "      <th>Base_Price</th>\n",
       "      <th>Base_Price_curr</th>\n",
       "    </tr>\n",
       "  </thead>\n",
       "  <tbody>\n",
       "    <tr>\n",
       "      <th>0</th>\n",
       "      <td>Rashid Khan</td>\n",
       "      <td>BOWLER</td>\n",
       "      <td>15.0</td>\n",
       "      <td>1950.0</td>\n",
       "      <td>SRH</td>\n",
       "      <td>Gujarat Titans</td>\n",
       "      <td>Sold</td>\n",
       "      <td>Draft Pick</td>\n",
       "      <td>0.0</td>\n",
       "      <td>0</td>\n",
       "    </tr>\n",
       "    <tr>\n",
       "      <th>1</th>\n",
       "      <td>Hardik Pandya</td>\n",
       "      <td>ALL-ROUNDER</td>\n",
       "      <td>15.0</td>\n",
       "      <td>1950.0</td>\n",
       "      <td>MI</td>\n",
       "      <td>Gujarat Titans</td>\n",
       "      <td>Sold</td>\n",
       "      <td>Draft Pick</td>\n",
       "      <td>0.0</td>\n",
       "      <td>0</td>\n",
       "    </tr>\n",
       "    <tr>\n",
       "      <th>2</th>\n",
       "      <td>Lockie Ferguson</td>\n",
       "      <td>BOWLER</td>\n",
       "      <td>10.0</td>\n",
       "      <td>1300.0</td>\n",
       "      <td>KKR</td>\n",
       "      <td>Gujarat Titans</td>\n",
       "      <td>Sold</td>\n",
       "      <td>Auction</td>\n",
       "      <td>2.0</td>\n",
       "      <td>Cr</td>\n",
       "    </tr>\n",
       "    <tr>\n",
       "      <th>3</th>\n",
       "      <td>Rahul Tewatia</td>\n",
       "      <td>ALL-ROUNDER</td>\n",
       "      <td>9.0</td>\n",
       "      <td>1170.0</td>\n",
       "      <td>RR</td>\n",
       "      <td>Gujarat Titans</td>\n",
       "      <td>Sold</td>\n",
       "      <td>Auction</td>\n",
       "      <td>40.0</td>\n",
       "      <td>Lakh</td>\n",
       "    </tr>\n",
       "    <tr>\n",
       "      <th>4</th>\n",
       "      <td>Shubman Gill</td>\n",
       "      <td>BATTER</td>\n",
       "      <td>8.0</td>\n",
       "      <td>1040.0</td>\n",
       "      <td>KKR</td>\n",
       "      <td>Gujarat Titans</td>\n",
       "      <td>Sold</td>\n",
       "      <td>Draft Pick</td>\n",
       "      <td>0.0</td>\n",
       "      <td>0</td>\n",
       "    </tr>\n",
       "    <tr>\n",
       "      <th>...</th>\n",
       "      <td>...</td>\n",
       "      <td>...</td>\n",
       "      <td>...</td>\n",
       "      <td>...</td>\n",
       "      <td>...</td>\n",
       "      <td>...</td>\n",
       "      <td>...</td>\n",
       "      <td>...</td>\n",
       "      <td>...</td>\n",
       "      <td>...</td>\n",
       "    </tr>\n",
       "    <tr>\n",
       "      <th>628</th>\n",
       "      <td>Sairaj Patil</td>\n",
       "      <td>BATTER</td>\n",
       "      <td>0.0</td>\n",
       "      <td>0.0</td>\n",
       "      <td>DNP</td>\n",
       "      <td>Unsold</td>\n",
       "      <td>Unsold</td>\n",
       "      <td>Auction</td>\n",
       "      <td>20.0</td>\n",
       "      <td>Lakh</td>\n",
       "    </tr>\n",
       "    <tr>\n",
       "      <th>629</th>\n",
       "      <td>Monu Singh</td>\n",
       "      <td>BOWLER</td>\n",
       "      <td>0.0</td>\n",
       "      <td>0.0</td>\n",
       "      <td>DNP</td>\n",
       "      <td>Unsold</td>\n",
       "      <td>Unsold</td>\n",
       "      <td>Auction</td>\n",
       "      <td>20.0</td>\n",
       "      <td>Lakh</td>\n",
       "    </tr>\n",
       "    <tr>\n",
       "      <th>630</th>\n",
       "      <td>Nivethan Radhakrishnan</td>\n",
       "      <td>BOWLER</td>\n",
       "      <td>0.0</td>\n",
       "      <td>0.0</td>\n",
       "      <td>DNP</td>\n",
       "      <td>Unsold</td>\n",
       "      <td>Unsold</td>\n",
       "      <td>Auction</td>\n",
       "      <td>20.0</td>\n",
       "      <td>Lakh</td>\n",
       "    </tr>\n",
       "    <tr>\n",
       "      <th>631</th>\n",
       "      <td>Lance Morris</td>\n",
       "      <td>BOWLER</td>\n",
       "      <td>0.0</td>\n",
       "      <td>0.0</td>\n",
       "      <td>DNP</td>\n",
       "      <td>Unsold</td>\n",
       "      <td>Unsold</td>\n",
       "      <td>Auction</td>\n",
       "      <td>20.0</td>\n",
       "      <td>Lakh</td>\n",
       "    </tr>\n",
       "    <tr>\n",
       "      <th>632</th>\n",
       "      <td>Aaron Hardie</td>\n",
       "      <td>ALL-ROUNDER</td>\n",
       "      <td>0.0</td>\n",
       "      <td>0.0</td>\n",
       "      <td>DNP</td>\n",
       "      <td>Unsold</td>\n",
       "      <td>Unsold</td>\n",
       "      <td>Auction</td>\n",
       "      <td>20.0</td>\n",
       "      <td>Lakh</td>\n",
       "    </tr>\n",
       "  </tbody>\n",
       "</table>\n",
       "<p>633 rows × 10 columns</p>\n",
       "</div>"
      ],
      "text/plain": [
       "                     Player         Type  INR_Cost  USD_Cost Prev_team  \\\n",
       "0               Rashid Khan       BOWLER      15.0    1950.0       SRH   \n",
       "1             Hardik Pandya  ALL-ROUNDER      15.0    1950.0        MI   \n",
       "2           Lockie Ferguson       BOWLER      10.0    1300.0       KKR   \n",
       "3             Rahul Tewatia  ALL-ROUNDER       9.0    1170.0        RR   \n",
       "4              Shubman Gill       BATTER       8.0    1040.0       KKR   \n",
       "..                      ...          ...       ...       ...       ...   \n",
       "628            Sairaj Patil       BATTER       0.0       0.0       DNP   \n",
       "629              Monu Singh       BOWLER       0.0       0.0       DNP   \n",
       "630  Nivethan Radhakrishnan       BOWLER       0.0       0.0       DNP   \n",
       "631            Lance Morris       BOWLER       0.0       0.0       DNP   \n",
       "632            Aaron Hardie  ALL-ROUNDER       0.0       0.0       DNP   \n",
       "\n",
       "               Team  Status   Retention  Base_Price Base_Price_curr  \n",
       "0    Gujarat Titans    Sold  Draft Pick         0.0               0  \n",
       "1    Gujarat Titans    Sold  Draft Pick         0.0               0  \n",
       "2    Gujarat Titans    Sold     Auction         2.0              Cr  \n",
       "3    Gujarat Titans    Sold     Auction        40.0            Lakh  \n",
       "4    Gujarat Titans    Sold  Draft Pick         0.0               0  \n",
       "..              ...     ...         ...         ...             ...  \n",
       "628          Unsold  Unsold     Auction        20.0            Lakh  \n",
       "629          Unsold  Unsold     Auction        20.0            Lakh  \n",
       "630          Unsold  Unsold     Auction        20.0            Lakh  \n",
       "631          Unsold  Unsold     Auction        20.0            Lakh  \n",
       "632          Unsold  Unsold     Auction        20.0            Lakh  \n",
       "\n",
       "[633 rows x 10 columns]"
      ]
     },
     "execution_count": 31,
     "metadata": {},
     "output_type": "execute_result"
    }
   ],
   "source": [
    "df['Base_Price'] = df['Base_Price'].astype(float)\n",
    "df"
   ]
  },
  {
   "cell_type": "code",
   "execution_count": 32,
   "metadata": {},
   "outputs": [
    {
     "data": {
      "text/plain": [
       "Team                         Retention \n",
       "Chennai Super Kings          Auction       21\n",
       "                             Retained       4\n",
       "Delhi Capitals               Auction       20\n",
       "                             Retained       4\n",
       "Gujarat Titans               Auction       19\n",
       "                             Draft Pick     3\n",
       "Kolkata Knight Riders        Auction       21\n",
       "                             Retained       4\n",
       "Lucknow Super Giants         Auction       19\n",
       "                             Draft Pick     3\n",
       "Mumbai Indians               Auction       21\n",
       "                             Retained       4\n",
       "Punjab Kings                 Auction       23\n",
       "                             Retained       2\n",
       "Rajasthan Royals             Auction       21\n",
       "                             Retained       3\n",
       "Royal Challengers Bangalore  Auction       19\n",
       "                             Retained       3\n",
       "Sunrisers Hyderabad          Auction       20\n",
       "                             Retained       3\n",
       "Name: Retention, dtype: int64"
      ]
     },
     "execution_count": 32,
     "metadata": {},
     "output_type": "execute_result"
    }
   ],
   "source": [
    "#All the teams except unsold\n",
    "df.groupby(['Team', 'Retention'])['Retention'].count()[:-1]"
   ]
  },
  {
   "cell_type": "code",
   "execution_count": 33,
   "metadata": {},
   "outputs": [
    {
     "data": {
      "image/png": "[encoded data removed]",
      "text/plain": [
       "<Figure size 1440x864 with 1 Axes>"
      ]
     },
     "metadata": {
      "needs_background": "light"
     },
     "output_type": "display_data"
    }
   ],
   "source": [
    "plt.figure(figsize=(20,12))\n",
    "fig=sns.countplot(df[df['Team']!='Unsold']['Team'], hue=df['Type'])\n",
    "plt.title(\"Players in each Team\")\n",
    "plt.ylabel(\"No. of players\")\n",
    "plt.xticks(rotation=45)\n",
    "plt.show()"
   ]
  },
  {
   "cell_type": "code",
   "execution_count": 34,
   "metadata": {},
   "outputs": [
    {
     "data": {
      "text/html": [
       "<div>\n",
       "<style scoped>\n",
       "    .dataframe tbody tr th:only-of-type {\n",
       "        vertical-align: middle;\n",
       "    }\n",
       "\n",
       "    .dataframe tbody tr th {\n",
       "        vertical-align: top;\n",
       "    }\n",
       "\n",
       "    .dataframe thead th {\n",
       "        text-align: right;\n",
       "    }\n",
       "</style>\n",
       "<table border=\"1\" class=\"dataframe\">\n",
       "  <thead>\n",
       "    <tr style=\"text-align: right;\">\n",
       "      <th></th>\n",
       "      <th>Player</th>\n",
       "      <th>INR_Cost</th>\n",
       "    </tr>\n",
       "    <tr>\n",
       "      <th>Team</th>\n",
       "      <th></th>\n",
       "      <th></th>\n",
       "    </tr>\n",
       "  </thead>\n",
       "  <tbody>\n",
       "    <tr>\n",
       "      <th>Chennai Super Kings</th>\n",
       "      <td>Tushar Deshpande</td>\n",
       "      <td>14.00</td>\n",
       "    </tr>\n",
       "    <tr>\n",
       "      <th>Delhi Capitals</th>\n",
       "      <td>Yash Dhull</td>\n",
       "      <td>10.75</td>\n",
       "    </tr>\n",
       "    <tr>\n",
       "      <th>Gujarat Titans</th>\n",
       "      <td>Yash Dayal</td>\n",
       "      <td>10.00</td>\n",
       "    </tr>\n",
       "    <tr>\n",
       "      <th>Kolkata Knight Riders</th>\n",
       "      <td>Umesh Yadav</td>\n",
       "      <td>12.25</td>\n",
       "    </tr>\n",
       "    <tr>\n",
       "      <th>Lucknow Super Giants</th>\n",
       "      <td>Shahbaz Nadeem</td>\n",
       "      <td>10.00</td>\n",
       "    </tr>\n",
       "    <tr>\n",
       "      <th>Mumbai Indians</th>\n",
       "      <td>Tymal Mills</td>\n",
       "      <td>15.25</td>\n",
       "    </tr>\n",
       "    <tr>\n",
       "      <th>Punjab Kings</th>\n",
       "      <td>Writtick Chatterjee</td>\n",
       "      <td>11.50</td>\n",
       "    </tr>\n",
       "    <tr>\n",
       "      <th>Rajasthan Royals</th>\n",
       "      <td>Yuzvendra Chahal</td>\n",
       "      <td>10.00</td>\n",
       "    </tr>\n",
       "    <tr>\n",
       "      <th>Royal Challengers Bangalore</th>\n",
       "      <td>Wanindu Hasaranga</td>\n",
       "      <td>10.75</td>\n",
       "    </tr>\n",
       "    <tr>\n",
       "      <th>Sunrisers Hyderabad</th>\n",
       "      <td>Washington Sundar</td>\n",
       "      <td>10.75</td>\n",
       "    </tr>\n",
       "  </tbody>\n",
       "</table>\n",
       "</div>"
      ],
      "text/plain": [
       "                                          Player  INR_Cost\n",
       "Team                                                      \n",
       "Chennai Super Kings             Tushar Deshpande     14.00\n",
       "Delhi Capitals                        Yash Dhull     10.75\n",
       "Gujarat Titans                        Yash Dayal     10.00\n",
       "Kolkata Knight Riders                Umesh Yadav     12.25\n",
       "Lucknow Super Giants              Shahbaz Nadeem     10.00\n",
       "Mumbai Indians                       Tymal Mills     15.25\n",
       "Punjab Kings                 Writtick Chatterjee     11.50\n",
       "Rajasthan Royals                Yuzvendra Chahal     10.00\n",
       "Royal Challengers Bangalore    Wanindu Hasaranga     10.75\n",
       "Sunrisers Hyderabad            Washington Sundar     10.75"
      ]
     },
     "execution_count": 34,
     "metadata": {},
     "output_type": "execute_result"
    }
   ],
   "source": [
    "#Highest amounts spent by each team\n",
    "df.loc[(df['Retention']=='Auction') & (df['Team']!='Unsold')].groupby('Team')['Player','INR_Cost'].max()"
   ]
  },
  {
   "cell_type": "markdown",
   "metadata": {},
   "source": [
    "#Player retained at max price\n",
    "df.loc[(df['Retention']=='Retained')].groupby('Team')['Player','INR_Cost'].max()"
   ]
  },
  {
   "cell_type": "code",
   "execution_count": 35,
   "metadata": {},
   "outputs": [
    {
     "data": {
      "text/html": [
       "<div>\n",
       "<style scoped>\n",
       "    .dataframe tbody tr th:only-of-type {\n",
       "        vertical-align: middle;\n",
       "    }\n",
       "\n",
       "    .dataframe tbody tr th {\n",
       "        vertical-align: top;\n",
       "    }\n",
       "\n",
       "    .dataframe thead th {\n",
       "        text-align: right;\n",
       "    }\n",
       "</style>\n",
       "<table border=\"1\" class=\"dataframe\">\n",
       "  <thead>\n",
       "    <tr style=\"text-align: right;\">\n",
       "      <th></th>\n",
       "      <th>Player</th>\n",
       "      <th>Type</th>\n",
       "      <th>INR_Cost</th>\n",
       "      <th>USD_Cost</th>\n",
       "      <th>Prev_team</th>\n",
       "      <th>Team</th>\n",
       "      <th>Status</th>\n",
       "      <th>Retention</th>\n",
       "      <th>Base_Price</th>\n",
       "      <th>Base_Price_curr</th>\n",
       "    </tr>\n",
       "  </thead>\n",
       "  <tbody>\n",
       "    <tr>\n",
       "      <th>22</th>\n",
       "      <td>Ravindra Jadeja</td>\n",
       "      <td>ALL-ROUNDER</td>\n",
       "      <td>16.0</td>\n",
       "      <td>2080.0</td>\n",
       "      <td>CSK</td>\n",
       "      <td>Chennai Super Kings</td>\n",
       "      <td>Sold</td>\n",
       "      <td>Retained</td>\n",
       "      <td>0.0</td>\n",
       "      <td>Retained</td>\n",
       "    </tr>\n",
       "    <tr>\n",
       "      <th>47</th>\n",
       "      <td>Rishabh Pant</td>\n",
       "      <td>WICKETKEEPER</td>\n",
       "      <td>16.0</td>\n",
       "      <td>2080.0</td>\n",
       "      <td>DC</td>\n",
       "      <td>Delhi Capitals</td>\n",
       "      <td>Sold</td>\n",
       "      <td>Retained</td>\n",
       "      <td>0.0</td>\n",
       "      <td>Retained</td>\n",
       "    </tr>\n",
       "    <tr>\n",
       "      <th>143</th>\n",
       "      <td>Rohit Sharma</td>\n",
       "      <td>BATTER</td>\n",
       "      <td>16.0</td>\n",
       "      <td>2080.0</td>\n",
       "      <td>MI</td>\n",
       "      <td>Mumbai Indians</td>\n",
       "      <td>Sold</td>\n",
       "      <td>Retained</td>\n",
       "      <td>0.0</td>\n",
       "      <td>Retained</td>\n",
       "    </tr>\n",
       "    <tr>\n",
       "      <th>168</th>\n",
       "      <td>Virat Kohli</td>\n",
       "      <td>BATTER</td>\n",
       "      <td>15.0</td>\n",
       "      <td>1950.0</td>\n",
       "      <td>RCB</td>\n",
       "      <td>Royal Challengers Bangalore</td>\n",
       "      <td>Sold</td>\n",
       "      <td>Retained</td>\n",
       "      <td>0.0</td>\n",
       "      <td>Retained</td>\n",
       "    </tr>\n",
       "    <tr>\n",
       "      <th>214</th>\n",
       "      <td>Kane Williamson</td>\n",
       "      <td>BATTER</td>\n",
       "      <td>14.0</td>\n",
       "      <td>1820.0</td>\n",
       "      <td>SRH</td>\n",
       "      <td>Sunrisers Hyderabad</td>\n",
       "      <td>Sold</td>\n",
       "      <td>Retained</td>\n",
       "      <td>0.0</td>\n",
       "      <td>Retained</td>\n",
       "    </tr>\n",
       "  </tbody>\n",
       "</table>\n",
       "</div>"
      ],
      "text/plain": [
       "              Player          Type  INR_Cost  USD_Cost Prev_team  \\\n",
       "22   Ravindra Jadeja   ALL-ROUNDER      16.0    2080.0       CSK   \n",
       "47      Rishabh Pant  WICKETKEEPER      16.0    2080.0        DC   \n",
       "143     Rohit Sharma        BATTER      16.0    2080.0        MI   \n",
       "168      Virat Kohli        BATTER      15.0    1950.0       RCB   \n",
       "214  Kane Williamson        BATTER      14.0    1820.0       SRH   \n",
       "\n",
       "                            Team Status Retention  Base_Price Base_Price_curr  \n",
       "22           Chennai Super Kings   Sold  Retained         0.0        Retained  \n",
       "47                Delhi Capitals   Sold  Retained         0.0        Retained  \n",
       "143               Mumbai Indians   Sold  Retained         0.0        Retained  \n",
       "168  Royal Challengers Bangalore   Sold  Retained         0.0        Retained  \n",
       "214          Sunrisers Hyderabad   Sold  Retained         0.0        Retained  "
      ]
     },
     "execution_count": 35,
     "metadata": {},
     "output_type": "execute_result"
    }
   ],
   "source": [
    "#Player retained at highest price\n",
    "#There can be multiple players here\n",
    "df[df['Retention']=='Retained'].sort_values(by='INR_Cost', ascending=False).head(5)"
   ]
  },
  {
   "cell_type": "code",
   "execution_count": 36,
   "metadata": {},
   "outputs": [
    {
     "data": {
      "text/html": [
       "<div>\n",
       "<style scoped>\n",
       "    .dataframe tbody tr th:only-of-type {\n",
       "        vertical-align: middle;\n",
       "    }\n",
       "\n",
       "    .dataframe tbody tr th {\n",
       "        vertical-align: top;\n",
       "    }\n",
       "\n",
       "    .dataframe thead th {\n",
       "        text-align: right;\n",
       "    }\n",
       "</style>\n",
       "<table border=\"1\" class=\"dataframe\">\n",
       "  <thead>\n",
       "    <tr style=\"text-align: right;\">\n",
       "      <th></th>\n",
       "      <th>Player</th>\n",
       "      <th>Type</th>\n",
       "      <th>INR_Cost</th>\n",
       "      <th>USD_Cost</th>\n",
       "      <th>Prev_team</th>\n",
       "      <th>Team</th>\n",
       "      <th>Status</th>\n",
       "      <th>Retention</th>\n",
       "      <th>Base_Price</th>\n",
       "      <th>Base_Price_curr</th>\n",
       "    </tr>\n",
       "  </thead>\n",
       "  <tbody>\n",
       "    <tr>\n",
       "      <th>23</th>\n",
       "      <td>Deepak Chahar</td>\n",
       "      <td>BOWLER</td>\n",
       "      <td>14.00</td>\n",
       "      <td>1820.0</td>\n",
       "      <td>CSK</td>\n",
       "      <td>Chennai Super Kings</td>\n",
       "      <td>Sold</td>\n",
       "      <td>Auction</td>\n",
       "      <td>2.0</td>\n",
       "      <td>Cr</td>\n",
       "    </tr>\n",
       "    <tr>\n",
       "      <th>48</th>\n",
       "      <td>Shardul Thakur</td>\n",
       "      <td>BOWLER</td>\n",
       "      <td>10.75</td>\n",
       "      <td>1397.5</td>\n",
       "      <td>CSK</td>\n",
       "      <td>Delhi Capitals</td>\n",
       "      <td>Sold</td>\n",
       "      <td>Auction</td>\n",
       "      <td>2.0</td>\n",
       "      <td>Cr</td>\n",
       "    </tr>\n",
       "    <tr>\n",
       "      <th>192</th>\n",
       "      <td>Prasidh Krishna</td>\n",
       "      <td>BOWLER</td>\n",
       "      <td>10.00</td>\n",
       "      <td>1300.0</td>\n",
       "      <td>KKR</td>\n",
       "      <td>Rajasthan Royals</td>\n",
       "      <td>Sold</td>\n",
       "      <td>Auction</td>\n",
       "      <td>1.0</td>\n",
       "      <td>Cr</td>\n",
       "    </tr>\n",
       "    <tr>\n",
       "      <th>2</th>\n",
       "      <td>Lockie Ferguson</td>\n",
       "      <td>BOWLER</td>\n",
       "      <td>10.00</td>\n",
       "      <td>1300.0</td>\n",
       "      <td>KKR</td>\n",
       "      <td>Gujarat Titans</td>\n",
       "      <td>Sold</td>\n",
       "      <td>Auction</td>\n",
       "      <td>2.0</td>\n",
       "      <td>Cr</td>\n",
       "    </tr>\n",
       "    <tr>\n",
       "      <th>122</th>\n",
       "      <td>Avesh Khan</td>\n",
       "      <td>BOWLER</td>\n",
       "      <td>10.00</td>\n",
       "      <td>1300.0</td>\n",
       "      <td>DC</td>\n",
       "      <td>Lucknow Super Giants</td>\n",
       "      <td>Sold</td>\n",
       "      <td>Auction</td>\n",
       "      <td>20.0</td>\n",
       "      <td>Lakh</td>\n",
       "    </tr>\n",
       "  </tbody>\n",
       "</table>\n",
       "</div>"
      ],
      "text/plain": [
       "              Player    Type  INR_Cost  USD_Cost Prev_team  \\\n",
       "23     Deepak Chahar  BOWLER     14.00    1820.0       CSK   \n",
       "48    Shardul Thakur  BOWLER     10.75    1397.5       CSK   \n",
       "192  Prasidh Krishna  BOWLER     10.00    1300.0       KKR   \n",
       "2    Lockie Ferguson  BOWLER     10.00    1300.0       KKR   \n",
       "122       Avesh Khan  BOWLER     10.00    1300.0        DC   \n",
       "\n",
       "                     Team Status Retention  Base_Price Base_Price_curr  \n",
       "23    Chennai Super Kings   Sold   Auction         2.0              Cr  \n",
       "48         Delhi Capitals   Sold   Auction         2.0              Cr  \n",
       "192      Rajasthan Royals   Sold   Auction         1.0              Cr  \n",
       "2          Gujarat Titans   Sold   Auction         2.0              Cr  \n",
       "122  Lucknow Super Giants   Sold   Auction        20.0            Lakh  "
      ]
     },
     "execution_count": 36,
     "metadata": {},
     "output_type": "execute_result"
    }
   ],
   "source": [
    "#Top 5 bowlers\n",
    "df[(df['Retention']=='Auction') & (df['Type']=='BOWLER')].sort_values(by='INR_Cost', ascending=False).head(5)"
   ]
  },
  {
   "cell_type": "code",
   "execution_count": 37,
   "metadata": {},
   "outputs": [
    {
     "data": {
      "text/html": [
       "<div>\n",
       "<style scoped>\n",
       "    .dataframe tbody tr th:only-of-type {\n",
       "        vertical-align: middle;\n",
       "    }\n",
       "\n",
       "    .dataframe tbody tr th {\n",
       "        vertical-align: top;\n",
       "    }\n",
       "\n",
       "    .dataframe thead th {\n",
       "        text-align: right;\n",
       "    }\n",
       "</style>\n",
       "<table border=\"1\" class=\"dataframe\">\n",
       "  <thead>\n",
       "    <tr style=\"text-align: right;\">\n",
       "      <th></th>\n",
       "      <th>Player</th>\n",
       "      <th>Type</th>\n",
       "      <th>INR_Cost</th>\n",
       "      <th>USD_Cost</th>\n",
       "      <th>Prev_team</th>\n",
       "      <th>Team</th>\n",
       "      <th>Status</th>\n",
       "      <th>Retention</th>\n",
       "      <th>Base_Price</th>\n",
       "      <th>Base_Price_curr</th>\n",
       "    </tr>\n",
       "  </thead>\n",
       "  <tbody>\n",
       "    <tr>\n",
       "      <th>71</th>\n",
       "      <td>Shreyas Iyer</td>\n",
       "      <td>BATTER</td>\n",
       "      <td>12.25</td>\n",
       "      <td>1592.5</td>\n",
       "      <td>DC</td>\n",
       "      <td>Kolkata Knight Riders</td>\n",
       "      <td>Sold</td>\n",
       "      <td>Auction</td>\n",
       "      <td>2.0</td>\n",
       "      <td>Cr</td>\n",
       "    </tr>\n",
       "    <tr>\n",
       "      <th>193</th>\n",
       "      <td>Shimron Hetmyer</td>\n",
       "      <td>BATTER</td>\n",
       "      <td>8.50</td>\n",
       "      <td>1105.0</td>\n",
       "      <td>DC</td>\n",
       "      <td>Rajasthan Royals</td>\n",
       "      <td>Sold</td>\n",
       "      <td>Auction</td>\n",
       "      <td>1.5</td>\n",
       "      <td>Cr</td>\n",
       "    </tr>\n",
       "    <tr>\n",
       "      <th>217</th>\n",
       "      <td>Rahul Tripathi</td>\n",
       "      <td>BATTER</td>\n",
       "      <td>8.50</td>\n",
       "      <td>1105.0</td>\n",
       "      <td>KKR</td>\n",
       "      <td>Sunrisers Hyderabad</td>\n",
       "      <td>Sold</td>\n",
       "      <td>Auction</td>\n",
       "      <td>40.0</td>\n",
       "      <td>Lakh</td>\n",
       "    </tr>\n",
       "    <tr>\n",
       "      <th>100</th>\n",
       "      <td>Shikhar Dhawan</td>\n",
       "      <td>BATTER</td>\n",
       "      <td>8.25</td>\n",
       "      <td>1072.5</td>\n",
       "      <td>DC</td>\n",
       "      <td>Punjab Kings</td>\n",
       "      <td>Sold</td>\n",
       "      <td>Auction</td>\n",
       "      <td>2.0</td>\n",
       "      <td>Cr</td>\n",
       "    </tr>\n",
       "    <tr>\n",
       "      <th>195</th>\n",
       "      <td>Devdutt Padikkal</td>\n",
       "      <td>BATTER</td>\n",
       "      <td>7.75</td>\n",
       "      <td>1007.5</td>\n",
       "      <td>RCB</td>\n",
       "      <td>Rajasthan Royals</td>\n",
       "      <td>Sold</td>\n",
       "      <td>Auction</td>\n",
       "      <td>2.0</td>\n",
       "      <td>Cr</td>\n",
       "    </tr>\n",
       "  </tbody>\n",
       "</table>\n",
       "</div>"
      ],
      "text/plain": [
       "               Player    Type  INR_Cost  USD_Cost Prev_team  \\\n",
       "71       Shreyas Iyer  BATTER     12.25    1592.5        DC   \n",
       "193   Shimron Hetmyer  BATTER      8.50    1105.0        DC   \n",
       "217    Rahul Tripathi  BATTER      8.50    1105.0       KKR   \n",
       "100    Shikhar Dhawan  BATTER      8.25    1072.5        DC   \n",
       "195  Devdutt Padikkal  BATTER      7.75    1007.5       RCB   \n",
       "\n",
       "                      Team Status Retention  Base_Price Base_Price_curr  \n",
       "71   Kolkata Knight Riders   Sold   Auction         2.0              Cr  \n",
       "193       Rajasthan Royals   Sold   Auction         1.5              Cr  \n",
       "217    Sunrisers Hyderabad   Sold   Auction        40.0            Lakh  \n",
       "100           Punjab Kings   Sold   Auction         2.0              Cr  \n",
       "195       Rajasthan Royals   Sold   Auction         2.0              Cr  "
      ]
     },
     "execution_count": 37,
     "metadata": {},
     "output_type": "execute_result"
    }
   ],
   "source": [
    "#Top 5 batsmen\n",
    "df[(df['Retention']=='Auction') & (df['Type']=='BATTER')].sort_values(by='INR_Cost', ascending=False).head(5)"
   ]
  },
  {
   "cell_type": "code",
   "execution_count": 39,
   "metadata": {},
   "outputs": [
    {
     "data": {
      "text/plain": [
       "array(['Gujarat Titans', 'Chennai Super Kings', 'Delhi Capitals',\n",
       "       'Kolkata Knight Riders', 'Punjab Kings', 'Lucknow Super Giants',\n",
       "       'Mumbai Indians', 'Royal Challengers Bangalore',\n",
       "       'Rajasthan Royals', 'Sunrisers Hyderabad', 'Unsold'], dtype=object)"
      ]
     },
     "execution_count": 39,
     "metadata": {},
     "output_type": "execute_result"
    }
   ],
   "source": [
    "df['Team'].unique()"
   ]
  },
  {
   "cell_type": "code",
   "execution_count": 40,
   "metadata": {},
   "outputs": [
    {
     "data": {
      "text/plain": [
       "array(['SRH', 'MI', 'KKR', 'RR', 'PBKS', 'DNP', 'CSK', 'DC', 'RCB'],\n",
       "      dtype=object)"
      ]
     },
     "execution_count": 40,
     "metadata": {},
     "output_type": "execute_result"
    }
   ],
   "source": [
    "df['Prev_team'].unique()"
   ]
  },
  {
   "cell_type": "code",
   "execution_count": 48,
   "metadata": {},
   "outputs": [
    {
     "data": {
      "text/html": [
       "<div>\n",
       "<style scoped>\n",
       "    .dataframe tbody tr th:only-of-type {\n",
       "        vertical-align: middle;\n",
       "    }\n",
       "\n",
       "    .dataframe tbody tr th {\n",
       "        vertical-align: top;\n",
       "    }\n",
       "\n",
       "    .dataframe thead th {\n",
       "        text-align: right;\n",
       "    }\n",
       "</style>\n",
       "<table border=\"1\" class=\"dataframe\">\n",
       "  <thead>\n",
       "    <tr style=\"text-align: right;\">\n",
       "      <th></th>\n",
       "      <th>Player</th>\n",
       "      <th>Prev_team</th>\n",
       "    </tr>\n",
       "  </thead>\n",
       "  <tbody>\n",
       "    <tr>\n",
       "      <th>237</th>\n",
       "      <td>Suresh Raina</td>\n",
       "      <td>CSK</td>\n",
       "    </tr>\n",
       "    <tr>\n",
       "      <th>238</th>\n",
       "      <td>Steve Smith</td>\n",
       "      <td>DC</td>\n",
       "    </tr>\n",
       "    <tr>\n",
       "      <th>239</th>\n",
       "      <td>Shakib Al Hasan</td>\n",
       "      <td>KKR</td>\n",
       "    </tr>\n",
       "    <tr>\n",
       "      <th>240</th>\n",
       "      <td>Amit Mishra</td>\n",
       "      <td>DC</td>\n",
       "    </tr>\n",
       "    <tr>\n",
       "      <th>241</th>\n",
       "      <td>Adil Rashid</td>\n",
       "      <td>PBKS</td>\n",
       "    </tr>\n",
       "    <tr>\n",
       "      <th>242</th>\n",
       "      <td>Imran Tahir</td>\n",
       "      <td>CSK</td>\n",
       "    </tr>\n",
       "    <tr>\n",
       "      <th>243</th>\n",
       "      <td>Mujeeb Zadran</td>\n",
       "      <td>SRH</td>\n",
       "    </tr>\n",
       "    <tr>\n",
       "      <th>244</th>\n",
       "      <td>Adam Zampa</td>\n",
       "      <td>RCB</td>\n",
       "    </tr>\n",
       "    <tr>\n",
       "      <th>245</th>\n",
       "      <td>Rajat Patidar</td>\n",
       "      <td>RCB</td>\n",
       "    </tr>\n",
       "    <tr>\n",
       "      <th>246</th>\n",
       "      <td>Mohammed Azharuddeen</td>\n",
       "      <td>RCB</td>\n",
       "    </tr>\n",
       "    <tr>\n",
       "      <th>249</th>\n",
       "      <td>M. Siddharth</td>\n",
       "      <td>DC</td>\n",
       "    </tr>\n",
       "    <tr>\n",
       "      <th>252</th>\n",
       "      <td>Dawid Malan</td>\n",
       "      <td>PBKS</td>\n",
       "    </tr>\n",
       "    <tr>\n",
       "      <th>253</th>\n",
       "      <td>Eoin Morgan</td>\n",
       "      <td>KKR</td>\n",
       "    </tr>\n",
       "    <tr>\n",
       "      <th>254</th>\n",
       "      <td>Cheteshwar Pujara</td>\n",
       "      <td>CSK</td>\n",
       "    </tr>\n",
       "    <tr>\n",
       "      <th>255</th>\n",
       "      <td>Saurabh Tiwary</td>\n",
       "      <td>MI</td>\n",
       "    </tr>\n",
       "    <tr>\n",
       "      <th>257</th>\n",
       "      <td>Ishant Sharma</td>\n",
       "      <td>DC</td>\n",
       "    </tr>\n",
       "    <tr>\n",
       "      <th>259</th>\n",
       "      <td>Piyush Chawla</td>\n",
       "      <td>MI</td>\n",
       "    </tr>\n",
       "    <tr>\n",
       "      <th>260</th>\n",
       "      <td>Tabraiz Shamsi</td>\n",
       "      <td>RR</td>\n",
       "    </tr>\n",
       "    <tr>\n",
       "      <th>262</th>\n",
       "      <td>Sachin Baby</td>\n",
       "      <td>RCB</td>\n",
       "    </tr>\n",
       "    <tr>\n",
       "      <th>267</th>\n",
       "      <td>Virat Singh</td>\n",
       "      <td>SRH</td>\n",
       "    </tr>\n",
       "    <tr>\n",
       "      <th>269</th>\n",
       "      <td>Akash Singh</td>\n",
       "      <td>RR</td>\n",
       "    </tr>\n",
       "    <tr>\n",
       "      <th>273</th>\n",
       "      <td>Chris Lynn</td>\n",
       "      <td>MI</td>\n",
       "    </tr>\n",
       "    <tr>\n",
       "      <th>276</th>\n",
       "      <td>George Garton</td>\n",
       "      <td>RCB</td>\n",
       "    </tr>\n",
       "    <tr>\n",
       "      <th>288</th>\n",
       "      <td>Andrew Tye</td>\n",
       "      <td>RR</td>\n",
       "    </tr>\n",
       "    <tr>\n",
       "      <th>289</th>\n",
       "      <td>Sandeep Warrier</td>\n",
       "      <td>KKR</td>\n",
       "    </tr>\n",
       "    <tr>\n",
       "      <th>311</th>\n",
       "      <td>Shreevats Goswami</td>\n",
       "      <td>SRH</td>\n",
       "    </tr>\n",
       "    <tr>\n",
       "      <th>313</th>\n",
       "      <td>Aditya Tare</td>\n",
       "      <td>MI</td>\n",
       "    </tr>\n",
       "    <tr>\n",
       "      <th>317</th>\n",
       "      <td>Lukman Hussain Meriwala</td>\n",
       "      <td>DC</td>\n",
       "    </tr>\n",
       "    <tr>\n",
       "      <th>325</th>\n",
       "      <td>Jalaj Saxena</td>\n",
       "      <td>PBKS</td>\n",
       "    </tr>\n",
       "    <tr>\n",
       "      <th>337</th>\n",
       "      <td>Ben Cutting</td>\n",
       "      <td>KKR</td>\n",
       "    </tr>\n",
       "    <tr>\n",
       "      <th>339</th>\n",
       "      <td>Moises Henriques</td>\n",
       "      <td>PBKS</td>\n",
       "    </tr>\n",
       "    <tr>\n",
       "      <th>342</th>\n",
       "      <td>Scott Kuggeleijn</td>\n",
       "      <td>RCB</td>\n",
       "    </tr>\n",
       "    <tr>\n",
       "      <th>343</th>\n",
       "      <td>Pawan Negi</td>\n",
       "      <td>KKR</td>\n",
       "    </tr>\n",
       "    <tr>\n",
       "      <th>346</th>\n",
       "      <td>Dhawal Kulkarni</td>\n",
       "      <td>MI</td>\n",
       "    </tr>\n",
       "    <tr>\n",
       "      <th>348</th>\n",
       "      <td>Kane Richardson</td>\n",
       "      <td>RCB</td>\n",
       "    </tr>\n",
       "    <tr>\n",
       "      <th>404</th>\n",
       "      <td>Kedar Jadhav</td>\n",
       "      <td>SRH</td>\n",
       "    </tr>\n",
       "    <tr>\n",
       "      <th>429</th>\n",
       "      <td>Yudhvir Charak</td>\n",
       "      <td>MI</td>\n",
       "    </tr>\n",
       "    <tr>\n",
       "      <th>447</th>\n",
       "      <td>Kulwant Khejroliya</td>\n",
       "      <td>DC</td>\n",
       "    </tr>\n",
       "    <tr>\n",
       "      <th>535</th>\n",
       "      <td>Anirudha Joshi</td>\n",
       "      <td>DC</td>\n",
       "    </tr>\n",
       "    <tr>\n",
       "      <th>623</th>\n",
       "      <td>Agnivesh Ayachi</td>\n",
       "      <td>PBKS</td>\n",
       "    </tr>\n",
       "  </tbody>\n",
       "</table>\n",
       "</div>"
      ],
      "text/plain": [
       "                      Player Prev_team\n",
       "237             Suresh Raina       CSK\n",
       "238              Steve Smith        DC\n",
       "239          Shakib Al Hasan       KKR\n",
       "240              Amit Mishra        DC\n",
       "241              Adil Rashid      PBKS\n",
       "242              Imran Tahir       CSK\n",
       "243            Mujeeb Zadran       SRH\n",
       "244               Adam Zampa       RCB\n",
       "245            Rajat Patidar       RCB\n",
       "246     Mohammed Azharuddeen       RCB\n",
       "249             M. Siddharth        DC\n",
       "252              Dawid Malan      PBKS\n",
       "253              Eoin Morgan       KKR\n",
       "254        Cheteshwar Pujara       CSK\n",
       "255           Saurabh Tiwary        MI\n",
       "257            Ishant Sharma        DC\n",
       "259            Piyush Chawla        MI\n",
       "260           Tabraiz Shamsi        RR\n",
       "262              Sachin Baby       RCB\n",
       "267              Virat Singh       SRH\n",
       "269              Akash Singh        RR\n",
       "273               Chris Lynn        MI\n",
       "276            George Garton       RCB\n",
       "288               Andrew Tye        RR\n",
       "289          Sandeep Warrier       KKR\n",
       "311        Shreevats Goswami       SRH\n",
       "313              Aditya Tare        MI\n",
       "317  Lukman Hussain Meriwala        DC\n",
       "325             Jalaj Saxena      PBKS\n",
       "337              Ben Cutting       KKR\n",
       "339         Moises Henriques      PBKS\n",
       "342         Scott Kuggeleijn       RCB\n",
       "343               Pawan Negi       KKR\n",
       "346          Dhawal Kulkarni        MI\n",
       "348          Kane Richardson       RCB\n",
       "404             Kedar Jadhav       SRH\n",
       "429           Yudhvir Charak        MI\n",
       "447       Kulwant Khejroliya        DC\n",
       "535           Anirudha Joshi        DC\n",
       "623          Agnivesh Ayachi      PBKS"
      ]
     },
     "execution_count": 48,
     "metadata": {},
     "output_type": "execute_result"
    }
   ],
   "source": [
    "unsold_players=df[(df['Team']=='Unsold') & (df['Prev_team']!='DNP')][['Player', 'Prev_team']]\n",
    "unsold_players"
   ]
  },
  {
   "cell_type": "code",
   "execution_count": null,
   "metadata": {},
   "outputs": [],
   "source": []
  }
 ],
 "metadata": {
  "kernelspec": {
   "display_name": "Python 3",
   "language": "python",
   "name": "python3"
  },
  "language_info": {
   "codemirror_mode": {
    "name": "ipython",
    "version": 3
   },
   "file_extension": ".py",
   "mimetype": "text/x-python",
   "name": "python",
   "nbconvert_exporter": "python",
   "pygments_lexer": "ipython3",
   "version": "3.8.5"
  }
 },
 "nbformat": 4,
 "nbformat_minor": 4
}
